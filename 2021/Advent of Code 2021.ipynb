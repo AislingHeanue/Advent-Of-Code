{
 "cells": [
  {
   "attachments": {},
   "cell_type": "markdown",
   "metadata": {},
   "source": [
    "> [Advent of Code](https://adventofcode.com/2021/about) is an Advent calendar of small programming puzzles for a variety of skill sets and skill levels that can be solved in any programming language you like. People use them as interview prep, company training, university coursework, practice problems, a speed contest, or to challenge each other.\n",
    "\n"
   ]
  },
  {
   "cell_type": "code",
   "execution_count": 1,
   "metadata": {},
   "outputs": [],
   "source": [
    "import numpy as np"
   ]
  },
  {
   "attachments": {},
   "cell_type": "markdown",
   "metadata": {},
   "source": [
    "[Question 1](https://adventofcode.com/2021/day/1)"
   ]
  },
  {
   "cell_type": "code",
   "execution_count": 16,
   "metadata": {},
   "outputs": [
    {
     "name": "stdout",
     "output_type": "stream",
     "text": [
      "Part A: 1387\n",
      "Part B: 1362\n"
     ]
    }
   ],
   "source": [
    "file = open(\"inputs/input1.txt\")\n",
    "\n",
    "partANums = [int(line.strip()) for line in file.readlines()]\n",
    "partBNums = [i + j + k for i,j,k in zip(partANums[:-2],partANums[1:-1],partANums[2:])]\n",
    "\n",
    "def increases(nums):\n",
    "    lastNum = None\n",
    "    totalIncreases = 0\n",
    "    for i in nums:\n",
    "        if lastNum != None:\n",
    "            if i > lastNum:\n",
    "                totalIncreases += 1\n",
    "        lastNum = i\n",
    "    return totalIncreases\n",
    "print(f\"Part A: {increases(partANums)}\")\n",
    "print(f\"Part B: {increases(partBNums)}\")\n",
    "file.close()"
   ]
  },
  {
   "attachments": {},
   "cell_type": "markdown",
   "metadata": {},
   "source": [
    "[Question 2](https://adventofcode.com/2021/day/2)"
   ]
  },
  {
   "cell_type": "code",
   "execution_count": 22,
   "metadata": {},
   "outputs": [
    {
     "name": "stdout",
     "output_type": "stream",
     "text": [
      "Part A: 1989014\n",
      "Part B: 2006917119\n"
     ]
    }
   ],
   "source": [
    "file = open(\"inputs/input2.txt\")\n",
    "\n",
    "pos = [0,0] #vertical pos, horizontal pos\n",
    "instrucitions = [line.strip().split(\" \") for line in file.readlines()]\n",
    "\n",
    "for instruciton in instrucitions:\n",
    "    match instruciton[0]:\n",
    "        case \"forward\":\n",
    "            pos[1] += int(instruciton[1])\n",
    "        case \"down\":\n",
    "            pos[0] += int(instruciton[1])\n",
    "        case \"up\":\n",
    "            pos[0] -= int(instruciton[1])\n",
    "print(f\"Part A: {pos[0]*pos[1]}\")\n",
    "\n",
    "pos = [0,0]\n",
    "aim = 0\n",
    "for instruciton in instrucitions:\n",
    "    match instruciton[0]:\n",
    "        case \"forward\":\n",
    "            pos[1] += int(instruciton[1])\n",
    "            pos[0] += aim*int(instruciton[1])\n",
    "        case \"down\":\n",
    "            aim += int(instruciton[1])\n",
    "        case \"up\":\n",
    "            aim -= int(instruciton[1])\n",
    "print(f\"Part B: {pos[0]*pos[1]}\")\n",
    "file.close()"
   ]
  },
  {
   "attachments": {},
   "cell_type": "markdown",
   "metadata": {},
   "source": [
    "[Question 3](https://adventofcode.com/2021/day/3)"
   ]
  },
  {
   "cell_type": "code",
   "execution_count": 54,
   "metadata": {},
   "outputs": [
    {
     "name": "stdout",
     "output_type": "stream",
     "text": [
      "Part A: 1082324\n",
      "Part B: 1353024\n"
     ]
    }
   ],
   "source": [
    "file = open(\"inputs/input3.txt\")\n",
    "\n",
    "lines = [line.strip() for line in file.readlines()]\n",
    "width = len(lines[0])\n",
    "onesMinusZeros = [0]*width\n",
    "for line in lines:\n",
    "    for x,letter in enumerate(line):\n",
    "        onesMinusZeros[x] += (letter == \"1\") - (letter == \"0\")\n",
    "\n",
    "gammaRate2 = \"\".join([str(int(diff > 0)) for diff in onesMinusZeros])\n",
    "gammaRate = int(gammaRate2,2)\n",
    "epsilonRate = int(\"\".join([str(int(diff < 0)) for diff in onesMinusZeros]),2)\n",
    "print(f\"Part A: {gammaRate*epsilonRate}\")\n",
    "\n",
    "def findOxygen(lines,oxygen = True):\n",
    "    oxygenLines = lines.copy()\n",
    "    x = 0\n",
    "    while len(oxygenLines) != 1:\n",
    "        most = str(int(sum([int(line[x]) for line in oxygenLines]) >= len(oxygenLines)/2))\n",
    "        # print(oxygenLines,x,most,int(len(oxygenLines)/2))\n",
    "        for line in oxygenLines.copy():\n",
    "            if oxygen:\n",
    "                if line[x] != most:\n",
    "                    oxygenLines.remove(line)\n",
    "            else:\n",
    "                if line[x] == most:\n",
    "                    oxygenLines.remove(line) \n",
    "        x += 1\n",
    "    return int(oxygenLines[0],2)\n",
    "\n",
    "\n",
    "print(f\"Part B: {findOxygen(lines)*findOxygen(lines,False)}\")\n",
    "file.close()\n"
   ]
  },
  {
   "attachments": {},
   "cell_type": "markdown",
   "metadata": {},
   "source": [
    "[Question 4](https://adventofcode.com/2021/day/4)"
   ]
  },
  {
   "cell_type": "code",
   "execution_count": 11,
   "metadata": {},
   "outputs": [
    {
     "name": "stdout",
     "output_type": "stream",
     "text": [
      "Part A: 11774\n",
      "Part B: 4495\n"
     ]
    }
   ],
   "source": [
    "file = open(\"inputs/input4.txt\")\n",
    "\n",
    "class BingoBoard:\n",
    "    def __init__(self,lines):\n",
    "        if len(lines) != 5:\n",
    "            print(\"ERROR: wrong number of lines\")\n",
    "            return\n",
    "        self.matrix = [[int(num) for num in line.strip().split()] for line in lines]\n",
    "        self.markedMatrix = np.zeros((5,5))\n",
    "        # print(self.matrix)\n",
    "\n",
    "    def mark(self,num):\n",
    "        for i in range(5):\n",
    "            for j in range(5):\n",
    "                if self.matrix[j][i] == num:\n",
    "                    self.markedMatrix[j][i] = 1\n",
    "\n",
    "    def winner(self):\n",
    "        # print(self.markedMatrix)\n",
    "        # print([sum(self.markedMatrix[j][:]) == 5 for j in range(5)])\n",
    "        return any([sum(self.markedMatrix[j,:]) == 5 for j in range(5)]) or any([sum(self.markedMatrix[:,i]) == 5 for i in range(5)])\n",
    "\n",
    "    def sumUnmarked(self):\n",
    "        total = 0\n",
    "        for i in range(5): \n",
    "            for j in range(5): \n",
    "                if self.markedMatrix[j][i] == 0: total += self.matrix[j][i]\n",
    "        return total\n",
    "\n",
    "    def reset(self):\n",
    "        self.markedMatrix = np.zeros((5,5))\n",
    "            \n",
    "\n",
    "def checkWins():\n",
    "    for board in boards:\n",
    "        if board.winner():\n",
    "            # print(board.matrix,\"\\n\",board.markedMatrix,number,board.sumUnmarked())\n",
    "            print(f\"Part A: {board.sumUnmarked()*number}\")\n",
    "            return True\n",
    "    return False\n",
    "\n",
    "def checkAllWins():\n",
    "    for board in boards:\n",
    "        if board.winner():\n",
    "            if len(boards) > 1:\n",
    "                boards.remove(board)\n",
    "            else:\n",
    "                print(f\"Part B: {board.sumUnmarked()*number}\")\n",
    "                return True\n",
    "    return False\n",
    "\n",
    "lines = file.readlines()\n",
    "boards = []\n",
    "numbers =  [int(i) for i in lines[0].split(\",\")]\n",
    "for i in range(int((len(lines) - 1)/6)):\n",
    "    boards.append(BingoBoard(lines[2+6*i:7+6*i]))\n",
    "\n",
    "for number in numbers:\n",
    "    for board in boards: board.mark(number)\n",
    "    if checkWins(): break\n",
    "\n",
    "for board in boards: board.reset()\n",
    "\n",
    "for number in numbers:\n",
    "    for board in boards: board.mark(number)\n",
    "    if checkAllWins(): break\n"
   ]
  },
  {
   "attachments": {},
   "cell_type": "markdown",
   "metadata": {},
   "source": [
    "[Question 5](https://adventofcode.com/2021/day/5)"
   ]
  },
  {
   "attachments": {},
   "cell_type": "markdown",
   "metadata": {},
   "source": [
    "[Question n](https://adventofcode.com/2021/day/1)"
   ]
  }
 ],
 "metadata": {
  "kernelspec": {
   "display_name": "Python 3",
   "language": "python",
   "name": "python3"
  },
  "language_info": {
   "codemirror_mode": {
    "name": "ipython",
    "version": 3
   },
   "file_extension": ".py",
   "mimetype": "text/x-python",
   "name": "python",
   "nbconvert_exporter": "python",
   "pygments_lexer": "ipython3",
   "version": "3.10.9"
  },
  "orig_nbformat": 4,
  "vscode": {
   "interpreter": {
    "hash": "767d51c1340bd893661ea55ea3124f6de3c7a262a8b4abca0554b478b1e2ff90"
   }
  }
 },
 "nbformat": 4,
 "nbformat_minor": 2
}
